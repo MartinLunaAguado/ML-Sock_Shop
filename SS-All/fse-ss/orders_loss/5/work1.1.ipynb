{
 "cells": [
  {
   "cell_type": "markdown",
   "metadata": {},
   "source": [
    "# Prueba 1 deberes TFG\n",
    "- solo utilizando SS_1.1\n",
    "\n"
   ]
  },
  {
   "cell_type": "code",
   "execution_count": 1,
   "metadata": {},
   "outputs": [
    {
     "name": "stdout",
     "output_type": "stream",
     "text": [
      "Número de filas en el DataFrame original: 721\n"
     ]
    }
   ],
   "source": [
    "# Importar las librerías necesarias\n",
    "import pandas as pd\n",
    "import numpy as np\n",
    "import matplotlib.pyplot as plt\n",
    "from baro.anomaly_detection import bocpd\n",
    "from baro.root_cause_analysis import robust_scorer\n",
    "from baro.utility import drop_constant\n",
    "\n",
    "# 1. Cargar los datos\n",
    "data_path = \"data.csv\"\n",
    "df = pd.read_csv(data_path)\n",
    "\n",
    "print(\"Número de filas en el DataFrame original:\", df.shape[0])\n"
   ]
  },
  {
   "cell_type": "code",
   "execution_count": 2,
   "metadata": {},
   "outputs": [
    {
     "name": "stdout",
     "output_type": "stream",
     "text": [
      "Duplicados en la columna 'time': 0\n",
      "Valores nulos en 'time': 0\n",
      "Número de filas después de añadir la columna: 721\n",
      "Número de filas en la clase 'Normal': 360\n"
     ]
    }
   ],
   "source": [
    "# 2. Leer el tiempo de inyección del fallo\n",
    "with open(\"inject_time.txt\") as f:\n",
    "    inject_time = int(f.readline().strip())\n",
    "\n",
    "# 3. Separar los datos en antes y después del fallo\n",
    "df[\"Abnormality Class\"] = df[\"time\"].apply(lambda t: \"Normal\" if t < inject_time else \"Abnormal\")\n",
    "\n",
    "  #print(df.head(10))\n",
    "  #print(df.tail(10))\n",
    "# Verificar si la columna \"time\" tiene duplicados o valores nulos\n",
    "print(\"Duplicados en la columna 'time':\", df[\"time\"].duplicated().sum())\n",
    "print(\"Valores nulos en 'time':\", df[\"time\"].isnull().sum())\n",
    "#Comprobar si tenemos el mismo numeri de filas que antes\n",
    "print(\"Número de filas después de añadir la columna:\", df.shape[0])\n",
    "print(\"Número de filas en la clase 'Normal':\", df[df[\"Abnormality Class\"] == \"Normal\"].shape[0])"
   ]
  },
  {
   "cell_type": "code",
   "execution_count": 3,
   "metadata": {},
   "outputs": [],
   "source": [
    "df.to_csv('new_data.csv', index=False)"
   ]
  }
 ],
 "metadata": {
  "kernelspec": {
   "display_name": "Python 3",
   "language": "python",
   "name": "python3"
  },
  "language_info": {
   "codemirror_mode": {
    "name": "ipython",
    "version": 3
   },
   "file_extension": ".py",
   "mimetype": "text/x-python",
   "name": "python",
   "nbconvert_exporter": "python",
   "pygments_lexer": "ipython3",
   "version": "3.12.0"
  }
 },
 "nbformat": 4,
 "nbformat_minor": 2
}
